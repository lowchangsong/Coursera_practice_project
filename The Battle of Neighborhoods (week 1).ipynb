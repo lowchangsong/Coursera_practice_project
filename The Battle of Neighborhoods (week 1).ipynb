{
 "cells": [
  {
   "cell_type": "markdown",
   "metadata": {},
   "source": [
    "<h1 align=center><font size = 5>Capstone Project - The Battle of Neighborhoods</font></h1>\n"
   ]
  },
  {
   "cell_type": "markdown",
   "metadata": {},
   "source": [
    "##  1. Description of the Problem and Discussion of the Background "
   ]
  },
  {
   "cell_type": "markdown",
   "metadata": {},
   "source": [
    "### Introduction/Business Problem\n",
    "Due to increasing popularity of drinking bubble tea (a new variety of tea) globally, an investor came to me with an idea of opening a bubble tea shop. Bubble Tea is a Taiwanese tea-based drink invented in Tainan and Taichung in the 1980s. Recipes contain tea of some kind, flavors or milk, as well as sugar. Toppings, such as chewy tapioca balls, popping boba, fruit jelly, grass jelly, agar jelly, and puddings are often added. \n",
    "\n",
    "Investor's main concern is to get a recommendation of the most suitable location to open bubble tea shop in New York. Furthermore, rental price of the shop is not the main concern of the investors. Hence, we should consider a number of factors that could potentially affect how the business would go and also we have to the right neighborhood. With the help from the tools of data science, we can analyze the neighborhoods and decide the best spot to start the business.\n",
    "\n",
    "\n",
    "\n",
    "\n"
   ]
  },
  {
   "cell_type": "markdown",
   "metadata": {},
   "source": [
    "### Factors affecting the business\n",
    "Below are some of the main factors that might affect how well the business goes.\n",
    "\n",
    "#### Restaurants nearby\n",
    "Most people would like to get a cup of bubble tea after they have their lunch or dinner. So it is best to set up the bubble tea shop near restaurants.  Foursquare are able to provide us with the data of each neighborhood with the information on their top restaurants and even photos and comments. \n",
    "\n",
    "#### Cuisine Type\n",
    "People from different neighborhoods may have very different tastes in food which in turns affects the likelihood of them buying bubble tea after having a good meal. Hence, Cuisine type also an important factor to consider. Customers who enjoy a specific type of cuisine might also share some common interests and characteristics and these characteristics can be analyzed using the data science tools we have learned.\n",
    "\n",
    "#### Demographic of the Neighborhoods and Facilities Nearby\n",
    "Demographical data affect how well the restaurant runs. It is best to set up bubble tea shop in the area with the Most Frequent venues. For example, in an area near restaurants have high popularity or near cinemas and shopping malls."
   ]
  },
  {
   "cell_type": "markdown",
   "metadata": {},
   "source": [
    "## 2. Data Preparation"
   ]
  },
  {
   "cell_type": "markdown",
   "metadata": {},
   "source": [
    "Most of the data used in this project will be taken from Foursquare API. The data are crowd sourced, comprehensive geographical data source. With Foursquare API, we are able to get insight on the most popular venues in each neighborhood, ratings and customer comments on those venues.\n",
    "\n",
    "For this project, I will only be analyzing neighborhood in Manhattan due to large amount of restaurants, cinemas and large diversity in population. I will using the information of these neighborhoods from Foursquare, especially the ratings and rankings for restaurants in different neighborhoods to get knowledge of the preferences of customers in each neighborhood. Their preferences will then help us decide the best location to set up the business.\n",
    "\n",
    "For New York City's Boroughs, Neighborhoods and their coordinate values, we use the below JSON file.\n",
    "\n",
    "https://cocl.us/new_york_dataset\n",
    "\n",
    "From the above JSON file, we extract only the Bronx Borough’s Neighborhoods.\n"
   ]
  },
  {
   "cell_type": "code",
   "execution_count": null,
   "metadata": {},
   "outputs": [],
   "source": []
  },
  {
   "cell_type": "code",
   "execution_count": null,
   "metadata": {},
   "outputs": [],
   "source": []
  },
  {
   "cell_type": "code",
   "execution_count": null,
   "metadata": {},
   "outputs": [],
   "source": []
  }
 ],
 "metadata": {
  "kernelspec": {
   "display_name": "Python 3",
   "language": "python",
   "name": "python3"
  },
  "language_info": {
   "codemirror_mode": {
    "name": "ipython",
    "version": 3
   },
   "file_extension": ".py",
   "mimetype": "text/x-python",
   "name": "python",
   "nbconvert_exporter": "python",
   "pygments_lexer": "ipython3",
   "version": "3.6.8"
  }
 },
 "nbformat": 4,
 "nbformat_minor": 2
}
